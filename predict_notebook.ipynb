{
 "cells": [
  {
   "cell_type": "code",
   "execution_count": 7,
   "metadata": {},
   "outputs": [
    {
     "name": "stdout",
     "output_type": "stream",
     "text": [
      "Predict on: private_test\n",
      "\n"
     ]
    }
   ],
   "source": [
    "import os\n",
    "import argparse\n",
    "import importlib\n",
    "import torch\n",
    "import cv2\n",
    "import pandas as pd\n",
    "import numpy as np\n",
    "from tqdm.auto import tqdm\n",
    "from time import time\n",
    "\n",
    "from src.model import LivenessModel, LivenessSequenceModel\n",
    "\n",
    "class Args:\n",
    "    pass\n",
    "args = Args()\n",
    "args.config = 'config'\n",
    "args.config_seq = 'config_seq'\n",
    "args.weight = 'models/v5_seg_head_regnet_y_16gf/fold0/best.pth'\n",
    "args.weight_seq = 'models/cspdarknet_lstm/fold0/best.pt'\n",
    "args.test_video_dir = '/data/private_test/videos'\n",
    "# args.test_video_dir = 'data/private_test/videos'\n",
    "args.submission_folder = '/result'\n",
    "# args.submission_folder = 'private_result'\n",
    "args.output_name = 'jupyter_submission'\n",
    "\n",
    "config_module = importlib.import_module(f'configs.{args.config}')\n",
    "config_module_seq = importlib.import_module(f'configs.{args.config_seq}')\n",
    "\n",
    "CFG = config_module.CFG\n",
    "CFG_SEQ = config_module_seq.CFG\n",
    "\n",
    "CFG.output_dir_name = CFG.version_note + '_' + CFG.backbone.replace('/', '_') \n",
    "CFG.output_dir = os.path.join(CFG.model_dir, CFG.output_dir_name)\n",
    "\n",
    "CFG.submission_folder = args.submission_folder\n",
    "CFG.test_video_dir = args.test_video_dir\n",
    "\n",
    "test_dir_name = CFG.test_video_dir.split('/')[-2]\n",
    "print('Predict on:', test_dir_name)\n",
    "\n",
    "if not torch.cuda.is_available():\n",
    "    CFG.device = 'cpu'\n",
    "\n",
    "# Load model\n",
    "model = LivenessModel(CFG.backbone, embedding_size=CFG.embedding_size)\n",
    "print('Delete auxilary heads for faster inference')\n",
    "del model.metric_learning_head, model.decoder, model.seg_head\n",
    "model.load_state_dict(torch.load(args.weight, map_location='cpu')['model'], strict=False)\n",
    "model.to(CFG.device)\n",
    "model.eval()\n",
    "\n",
    "# Load sequence model\n",
    "seq_model = LivenessSequenceModel(CFG_SEQ.backbone)\n",
    "seq_model.load_state_dict(torch.load(args.weight_seq, map_location='cpu')['state_dict'])\n",
    "seq_model.to(CFG.device)\n",
    "seq_model.eval()\n",
    "print()"
   ]
  },
  {
   "cell_type": "code",
   "execution_count": 8,
   "metadata": {},
   "outputs": [],
   "source": [
    "# read all test cases\n",
    "fnames = os.listdir(CFG.test_video_dir)\n",
    "test_df = pd.DataFrame(fnames)\n",
    "test_df.columns = ['fname']\n",
    "test_df = test_df.sort_values('fname')"
   ]
  },
  {
   "cell_type": "code",
   "execution_count": 10,
   "metadata": {},
   "outputs": [
    {
     "name": "stderr",
     "output_type": "stream",
     "text": [
      "100%|██████████| 2/2 [00:08<00:00,  4.17s/it]\n"
     ]
    }
   ],
   "source": [
    "test_preds = []\n",
    "all_predicted_time = []\n",
    "\n",
    "for i, row in tqdm(test_df.iterrows(), total=len(test_df)):\n",
    "    t1 = time()\n",
    "    vid_path = os.path.join(CFG.test_video_dir, row['fname'])\n",
    "    cap = cv2.VideoCapture(vid_path)\n",
    "    length = int(cap.get(cv2.CAP_PROP_FRAME_COUNT))\n",
    "    stride = length // CFG.frames_per_vid\n",
    "\n",
    "    # read and preprocess\n",
    "    frame_idx = 0\n",
    "    frames = []\n",
    "    frame_seq_model = []\n",
    "    while cap.isOpened():\n",
    "        ret, frame = cap.read()\n",
    "        if ret:\n",
    "            if frame_idx % stride == 0 and len(frames) < CFG.frames_per_vid:\n",
    "                frame = cv2.cvtColor(frame, cv2.COLOR_BGR2RGB)\n",
    "                frames.append(CFG.val_transforms(image=frame)['image'])\n",
    "                frame_seq_model.append(CFG_SEQ.val_transforms(image=frame)['image'])\n",
    "            frame_idx += 1\n",
    "        else:\n",
    "            break\n",
    "\n",
    "    cap.release()\n",
    "\n",
    "    # make prediction\n",
    "    X = torch.stack(frames).to(CFG.device)\n",
    "    X_seq = torch.stack(frame_seq_model).unsqueeze(0).to(CFG.device)\n",
    "    with torch.no_grad():\n",
    "        # model prediction\n",
    "        y_prob = model(X, aux_heads=False).sigmoid().view(-1).cpu().numpy()\n",
    "        y_prob = y_prob.mean() # avg over multi frames\n",
    "\n",
    "        # sequence model prediction\n",
    "        y_prob_seq = seq_model(X_seq).sigmoid().view(-1).cpu().item()\n",
    "\n",
    "    y_prob_ens = (y_prob + y_prob_seq) / 2\n",
    "    test_preds.append(y_prob_ens)\n",
    "\n",
    "    t2 = time()\n",
    "    predicted_time = int(t2*1000 - t1*1000)\n",
    "    all_predicted_time.append((row['fname'], predicted_time))\n",
    "\n",
    "test_df['prob'] = test_preds\n",
    "\n",
    "sub = test_df[['fname', 'prob']]\n",
    "sub.columns = ['fname', 'liveness_score']\n",
    "\n",
    "time_sub = pd.DataFrame(all_predicted_time)\n",
    "time_sub.columns = ['fname', 'time']\n",
    "\n",
    "os.makedirs(CFG.submission_folder, exist_ok=True)\n",
    "sub.to_csv(os.path.join(CFG.submission_folder, args.output_name + '.csv'), index=False)\n",
    "time_sub.to_csv(os.path.join(CFG.submission_folder, 'time_submission.csv'), index=False)"
   ]
  },
  {
   "cell_type": "code",
   "execution_count": null,
   "metadata": {},
   "outputs": [],
   "source": []
  },
  {
   "cell_type": "code",
   "execution_count": null,
   "metadata": {},
   "outputs": [],
   "source": []
  },
  {
   "cell_type": "code",
   "execution_count": null,
   "metadata": {},
   "outputs": [],
   "source": []
  },
  {
   "cell_type": "code",
   "execution_count": null,
   "metadata": {},
   "outputs": [],
   "source": []
  },
  {
   "cell_type": "code",
   "execution_count": null,
   "metadata": {},
   "outputs": [],
   "source": []
  },
  {
   "cell_type": "code",
   "execution_count": null,
   "metadata": {},
   "outputs": [],
   "source": []
  },
  {
   "cell_type": "code",
   "execution_count": null,
   "metadata": {},
   "outputs": [],
   "source": []
  }
 ],
 "metadata": {
  "kernelspec": {
   "display_name": "Python 3.9.15 ('ml')",
   "language": "python",
   "name": "python3"
  },
  "language_info": {
   "codemirror_mode": {
    "name": "ipython",
    "version": 3
   },
   "file_extension": ".py",
   "mimetype": "text/x-python",
   "name": "python",
   "nbconvert_exporter": "python",
   "pygments_lexer": "ipython3",
   "version": "3.9.15"
  },
  "orig_nbformat": 4,
  "vscode": {
   "interpreter": {
    "hash": "e077e90892dc7cd66309e2d232b71b2fe8598f1c527e78fef2e5cd94ac114dff"
   }
  }
 },
 "nbformat": 4,
 "nbformat_minor": 2
}
