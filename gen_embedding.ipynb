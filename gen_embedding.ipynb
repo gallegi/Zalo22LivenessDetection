{
 "cells": [
  {
   "cell_type": "code",
   "execution_count": 14,
   "metadata": {},
   "outputs": [],
   "source": [
    "import timm\n",
    "import torch\n",
    "import torch.nn.functional as F\n",
    "\n",
    "import os\n",
    "import cv2\n",
    "import numpy as np\n",
    "import pandas as pd\n",
    "import matplotlib.pyplot as plt\n",
    "from tqdm.auto import tqdm"
   ]
  },
  {
   "cell_type": "code",
   "execution_count": 15,
   "metadata": {},
   "outputs": [],
   "source": [
    "from configs.config_v1 import CFG"
   ]
  },
  {
   "cell_type": "code",
   "execution_count": 18,
   "metadata": {},
   "outputs": [],
   "source": [
    "TEST1_FOLDER = 'data/public/videos/'\n",
    "TEST2_FOLDER = 'data/public_test_2/videos/'"
   ]
  },
  {
   "cell_type": "code",
   "execution_count": 16,
   "metadata": {},
   "outputs": [
    {
     "name": "stdout",
     "output_type": "stream",
     "text": [
      "\n"
     ]
    }
   ],
   "source": [
    "model = timm.create_model('tf_efficientnet_b0', pretrained=True, features_only=True)\n",
    "model.eval()\n",
    "print()"
   ]
  },
  {
   "cell_type": "code",
   "execution_count": 17,
   "metadata": {},
   "outputs": [],
   "source": [
    "def get_emb(model, inp):\n",
    "    with torch.no_grad():\n",
    "        out = model(inp)\n",
    "        emb = F.adaptive_avg_pool2d(out[-1], 1)[0,:,0,0].numpy()\n",
    "    return emb\n",
    "\n",
    "def get_frame(vid_name, vid_dir=CFG.train_video_dir, frame_ind=0):\n",
    "    vid_path = os.path.join(vid_dir, vid_name)\n",
    "    cap = cv2.VideoCapture(vid_path)\n",
    "    cap.set(1, frame_ind)  # Where frame_no is the frame you want\n",
    "    ret, im = cap.read()\n",
    "    im = cv2.cvtColor(im, cv2.COLOR_BGR2RGB)\n",
    "    return im\n",
    "\n",
    "def get_tensor(im):\n",
    "    inp = CFG.val_transforms(image=im)['image']\n",
    "    inp = inp.unsqueeze(0)\n",
    "    return inp\n",
    "\n",
    "def cosine_sim(a, b):\n",
    "    cos_sim = np.dot(a, b)/(np.linalg.norm(a)*np.linalg.norm(b))\n",
    "    return cos_sim"
   ]
  },
  {
   "cell_type": "code",
   "execution_count": 10,
   "metadata": {},
   "outputs": [
    {
     "data": {
      "application/vnd.jupyter.widget-view+json": {
       "model_id": "a7bfe8e69e034ed5b91304c80f0d06c7",
       "version_major": 2,
       "version_minor": 0
      },
      "text/plain": [
       "  0%|          | 0/1168 [00:00<?, ?it/s]"
      ]
     },
     "metadata": {},
     "output_type": "display_data"
    }
   ],
   "source": [
    "train_df = pd.read_csv('data/train/label.csv')\n",
    "\n",
    "frame_counts = []\n",
    "\n",
    "all_embeddings = []\n",
    "for fname in tqdm(train_df.fname.tolist()):\n",
    "    \n",
    "    vid_name1 = fname\n",
    "    im1 = get_frame(vid_name1)\n",
    "    inp1 = get_tensor(im1)\n",
    "    emb1 = get_emb(model, inp1)\n",
    "    all_embeddings.append(emb1)\n",
    "    # break"
   ]
  },
  {
   "cell_type": "code",
   "execution_count": 11,
   "metadata": {},
   "outputs": [],
   "source": [
    "cat_embeddings = np.stack(all_embeddings)"
   ]
  },
  {
   "cell_type": "code",
   "execution_count": 12,
   "metadata": {},
   "outputs": [],
   "source": [
    "np.save('data/train_embeddings_frame0', cat_embeddings)"
   ]
  },
  {
   "cell_type": "code",
   "execution_count": 27,
   "metadata": {},
   "outputs": [
    {
     "data": {
      "application/vnd.jupyter.widget-view+json": {
       "model_id": "48eee17c4b10490c9179802d4cf79afa",
       "version_major": 2,
       "version_minor": 0
      },
      "text/plain": [
       "  0%|          | 0/350 [00:00<?, ?it/s]"
      ]
     },
     "metadata": {},
     "output_type": "display_data"
    }
   ],
   "source": [
    "public_test_df = pd.DataFrame(os.listdir(TEST1_FOLDER))\n",
    "public_test_df.columns = ['fname']\n",
    "\n",
    "frame_counts = []\n",
    "\n",
    "all_embeddings = []\n",
    "for fname in tqdm(public_test_df.fname.tolist()):\n",
    "    vid_name1 = fname\n",
    "    im1 = get_frame(vid_name1, vid_dir=TEST1_FOLDER)\n",
    "    inp1 = get_tensor(im1)\n",
    "    emb1 = get_emb(model, inp1)\n",
    "    all_embeddings.append(emb1)\n",
    "    # break"
   ]
  },
  {
   "cell_type": "code",
   "execution_count": 28,
   "metadata": {},
   "outputs": [],
   "source": [
    "cat_embeddings = np.stack(all_embeddings)"
   ]
  },
  {
   "cell_type": "code",
   "execution_count": 29,
   "metadata": {},
   "outputs": [],
   "source": [
    "np.save('data/public_embeddings_frame0', cat_embeddings)"
   ]
  },
  {
   "cell_type": "code",
   "execution_count": 30,
   "metadata": {},
   "outputs": [
    {
     "data": {
      "application/vnd.jupyter.widget-view+json": {
       "model_id": "4cf8fa6aef364864b3c098b9299f4f20",
       "version_major": 2,
       "version_minor": 0
      },
      "text/plain": [
       "  0%|          | 0/486 [00:00<?, ?it/s]"
      ]
     },
     "metadata": {},
     "output_type": "display_data"
    }
   ],
   "source": [
    "public_test_2_df = pd.DataFrame(os.listdir(TEST2_FOLDER))\n",
    "public_test_2_df.columns = ['fname']\n",
    "\n",
    "frame_counts = []\n",
    "\n",
    "all_embeddings = []\n",
    "for fname in tqdm(public_test_2_df.fname.tolist()):\n",
    "    vid_name1 = fname\n",
    "    im1 = get_frame(vid_name1, vid_dir=TEST2_FOLDER)\n",
    "    inp1 = get_tensor(im1)\n",
    "    emb1 = get_emb(model, inp1)\n",
    "    all_embeddings.append(emb1)\n",
    "    # break"
   ]
  },
  {
   "cell_type": "code",
   "execution_count": 31,
   "metadata": {},
   "outputs": [],
   "source": [
    "cat_embeddings = np.stack(all_embeddings)"
   ]
  },
  {
   "cell_type": "code",
   "execution_count": 32,
   "metadata": {},
   "outputs": [],
   "source": [
    "np.save('data/public_test_2_embeddings_frame0', cat_embeddings)"
   ]
  },
  {
   "cell_type": "code",
   "execution_count": null,
   "metadata": {},
   "outputs": [],
   "source": []
  }
 ],
 "metadata": {
  "kernelspec": {
   "display_name": "Python 3.9.13 ('ml')",
   "language": "python",
   "name": "python3"
  },
  "language_info": {
   "codemirror_mode": {
    "name": "ipython",
    "version": 3
   },
   "file_extension": ".py",
   "mimetype": "text/x-python",
   "name": "python",
   "nbconvert_exporter": "python",
   "pygments_lexer": "ipython3",
   "version": "3.9.13"
  },
  "orig_nbformat": 4,
  "vscode": {
   "interpreter": {
    "hash": "31d7989649452b8ff5b252a3e34caf45e4ffd8a5787fe28fc2ce0245f11b7782"
   }
  }
 },
 "nbformat": 4,
 "nbformat_minor": 2
}
